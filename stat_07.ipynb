{
 "cells": [
  {
   "cell_type": "markdown",
   "id": "2849ecd3-6af2-402e-b8f9-46058bfe17c4",
   "metadata": {},
   "source": [
    "Q1. Assumptions required to use ANOVA and examples of violations:\n",
    "\n",
    "Assumptions:\n",
    "\n",
    "Normality: The dependent variable should be approximately normally distributed within each group.\n",
    "Homogeneity of Variances: The variances of the groups should be roughly equal.\n",
    "Independence: Observations within and between groups should be independent.\n",
    "Violations:\n",
    "\n",
    "Non-Normality: If the data in one or more groups are not normally distributed, it can lead to inaccurate results.\n",
    "Heterogeneity of Variances: Unequal variances may affect the test's sensitivity to detect true differences.\n",
    "Non-Independence: Violation of independence assumption can occur in repeated measures designs or clustered data."
   ]
  },
  {
   "cell_type": "markdown",
   "id": "49ac1b25-457c-4b78-9261-4f976c4867b5",
   "metadata": {},
   "source": [
    "Q2. Three types of ANOVA and situations for each:\n",
    "\n",
    "One-Way ANOVA: Used when comparing means across two or more independent groups.\n",
    "Two-Way ANOVA: Extends one-way ANOVA to assess the influence of two categorical independent variables.\n",
    "Repeated Measures ANOVA: Used when the same subjects are used for each treatment (within-subjects design)."
   ]
  },
  {
   "cell_type": "markdown",
   "id": "4f6b8726-03dc-439c-9504-12ae5225fc6e",
   "metadata": {},
   "source": [
    "Q3. Partitioning of variance in ANOVA:\n",
    "\n",
    "Variance in ANOVA is partitioned into:\n",
    "\n",
    "Total Sum of Squares (SST): The total variability in the data.\n",
    "Explained Sum of Squares (SSE): The variability explained by the model.\n",
    "Residual Sum of Squares (SSR): The unexplained variability.\n",
    "Understanding this partitioning helps quantify how much of the total variance is due to the model and how much is due to random error"
   ]
  },
  {
   "cell_type": "markdown",
   "id": "bde21fa9-2525-405a-9287-ee92ac206958",
   "metadata": {},
   "source": [
    "Q4. Calculate SST, SSE, and SSR in one-way ANOVA using Python:\n",
    "\n",
    "import pandas as pd\n",
    "import statsmodels.api as sm\n",
    "from statsmodels.formula.api import ols\n",
    "\n",
    "# Assuming df is your DataFrame with 'group' and 'value' columns\n",
    "model = ols('value ~ group', data=df).fit()\n",
    "anova_table = sm.stats.anova_lm(model)\n",
    "\n",
    "SST = anova_table['sum_sq']['group'] + anova_table['sum_sq']['Residual']\n",
    "SSE = anova_table['sum_sq']['group']\n",
    "SSR = anova_table['sum_sq']['Residual']\n"
   ]
  },
  {
   "cell_type": "markdown",
   "id": "6fba0344-869e-4b88-a2fb-7e56bdb3987b",
   "metadata": {},
   "source": [
    "Q5. Calculate main effects and interaction effects in two-way ANOVA using Python:\n",
    "\n",
    "model = ols('value ~ factor1 * factor2', data=df).fit()\n",
    "anova_table = sm.stats.anova_lm(model)\n",
    "\n",
    "main_effect_factor1 = anova_table['sum_sq']['factor1']\n",
    "main_effect_factor2 = anova_table['sum_sq']['factor2']\n",
    "interaction_effect = anova_table['sum_sq']['factor1:factor2']\n"
   ]
  },
  {
   "cell_type": "markdown",
   "id": "43567dd5-129d-444e-af44-252774bdb8e4",
   "metadata": {},
   "source": [
    "Q6. Interpretation of F-statistic and p-value in one-way ANOVA:\n",
    "\n",
    "F-statistic (5.23): Indicates whether there are significant differences between group means.\n",
    "p-value (0.02): Probability of observing such extreme F-statistic if the null hypothesis (no group differences) is true.\n",
    "Interpretation: With a p-value of 0.02, you would reject the null hypothesis, suggesting that there are significant differences between the groups.\n",
    "\n"
   ]
  },
  {
   "cell_type": "code",
   "execution_count": null,
   "id": "a138f408-874f-4603-b969-fbfba30c3e7a",
   "metadata": {},
   "outputs": [],
   "source": []
  }
 ],
 "metadata": {
  "kernelspec": {
   "display_name": "Python 3 (ipykernel)",
   "language": "python",
   "name": "python3"
  },
  "language_info": {
   "codemirror_mode": {
    "name": "ipython",
    "version": 3
   },
   "file_extension": ".py",
   "mimetype": "text/x-python",
   "name": "python",
   "nbconvert_exporter": "python",
   "pygments_lexer": "ipython3",
   "version": "3.10.8"
  }
 },
 "nbformat": 4,
 "nbformat_minor": 5
}
